{
 "cells": [
  {
   "cell_type": "markdown",
   "metadata": {},
   "source": [
    "# Capstone Proyect - The Battle of the Neighborhoods - Week 1\n",
    "\n",
    "#### Applied Data Science Capstone IBM/Coursera\n",
    "\n",
    "## 1. Introduction: Business Problem\n",
    "\n",
    "### Problem Background:\n",
    "\n",
    "We focus our business problem on the North American states, as they are much larger and we have much more information. Because they are such large populations, apart from the people who live there, they attract a lot of tourism. People who travel and want to know everything about it. And when you travel, it means that you have to eat and you have to look for places to eat, and we are going to look for specific places to eat. But we leave out the typical ones like hamburgers and pizzerias and in this case we will focus on Mexican food.\n",
    "We have a highly competitive market and more with the theme of food, since wherever you go, you have to eat, and if we go out of the usual, as we said before, pizzas and hamburgers, we will analyze the market for Mexican food, which has many people like, because they like spicy.\n",
    "\n",
    "\n",
    "### Problem Description: \n",
    "\n",
    "A place that offers food, either a restaurant, or a fast food place, or any place that resembles it, where the food is prepared and served together with the drink, to be taken in the same place in the case of a restaurant or to be taken away if it is a fast food place, which offers you both options, or to be taken in the same place or to be taken away.\n",
    "We are going to focus on the cities that have a larger population like New York, to see in which of them we can find more Mexican food places. In all these cities we find a great gastronomic culture where a great amount of international cuisines are included, but in this case, going a little bit out of the ordinary, we focus on Mexican food.\n",
    "At the time we are, there are many tourists, who like this type of food more and they make their trips thinking about the possibility of being able to taste this type of food, outside their native land and for the simple fact that it is their favorite, and they want to stay, near a place that offers the type of food they want to eat. That's why we focus our study on tourists who want to eat that kind of food when they go on a trip to those cities.\n",
    "With this, we are going to offer a possibility to strategically plan a trip so that wherever you stay, you have a chance to eat the kind of food you like.\n",
    "\n",
    "\n",
    "### Target Audience\n",
    "\n",
    "We will recommend our tourists the best location to stay depending on the cities they visit, to ensure that they can eat the kind of food they like, which in this case will be Mexican food.\n",
    "Success Criteria\n",
    "\n",
    "To be successful in our project, we must make a good recommendation to tourists, because if they are looking for a specific type of food, what they want is precisely that, to be able to choose their hotel according to the areas where they have a greater number of restaurants or Mexican food establishments.\n",
    "\n",
    "\n",
    "## 2. Data\n",
    "\n",
    "Depending on the problem we want to solve, the factors that will influence our decision are\n",
    "- The number of restaurants in the neighborhood where you will be staying during your vacation\n",
    "- The number and distance of restaurants there are.\n",
    "- The distance from the place you are staying to the city centre.\n",
    "\n",
    "The tool we decided to use is the Foursquare API. We start from what is considered the center of the city that we are going to visit and focus there we will see the restaurants or Mexican food places that are there and the distance to them.\n",
    "The following data sources will be needed to extract/generate the required information\n",
    "- We will start from the centers of the candidate areas that will be obtained using Foursquare API.\n",
    "- We will also obtain the number of restaurants or Mexican food places and their location.\n",
    "\n",
    "The cities on which we will focus our study are the cities with the largest populations, extracted from the following page:\n",
    "http://worldpopulationreview.com/us-cities/\n",
    "\n",
    "Keeping the top five\n",
    " \n",
    " \n",
    "I'm showing an extract of the data we worked with from the query on the Foursquare API.\n"
   ]
  }
 ],
 "metadata": {
  "kernelspec": {
   "display_name": "Python 3",
   "language": "python",
   "name": "python3"
  },
  "language_info": {
   "codemirror_mode": {
    "name": "ipython",
    "version": 3
   },
   "file_extension": ".py",
   "mimetype": "text/x-python",
   "name": "python",
   "nbconvert_exporter": "python",
   "pygments_lexer": "ipython3",
   "version": "3.7.4"
  },
  "toc": {
   "base_numbering": 1,
   "nav_menu": {},
   "number_sections": true,
   "sideBar": true,
   "skip_h1_title": false,
   "title_cell": "Table of Contents",
   "title_sidebar": "Contents",
   "toc_cell": false,
   "toc_position": {},
   "toc_section_display": true,
   "toc_window_display": false
  },
  "varInspector": {
   "cols": {
    "lenName": 16,
    "lenType": 16,
    "lenVar": 40
   },
   "kernels_config": {
    "python": {
     "delete_cmd_postfix": "",
     "delete_cmd_prefix": "del ",
     "library": "var_list.py",
     "varRefreshCmd": "print(var_dic_list())"
    },
    "r": {
     "delete_cmd_postfix": ") ",
     "delete_cmd_prefix": "rm(",
     "library": "var_list.r",
     "varRefreshCmd": "cat(var_dic_list()) "
    }
   },
   "types_to_exclude": [
    "module",
    "function",
    "builtin_function_or_method",
    "instance",
    "_Feature"
   ],
   "window_display": false
  }
 },
 "nbformat": 4,
 "nbformat_minor": 2 
}
